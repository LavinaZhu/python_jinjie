{
 "cells": [
  {
   "cell_type": "code",
   "execution_count": 1,
   "metadata": {},
   "outputs": [
    {
     "data": {
      "text/plain": [
       "'C:\\\\Users\\\\Administrator'"
      ]
     },
     "execution_count": 1,
     "metadata": {},
     "output_type": "execute_result"
    }
   ],
   "source": [
    "import os\n",
    "os.getcwd()"
   ]
  },
  {
   "cell_type": "code",
   "execution_count": 2,
   "metadata": {},
   "outputs": [
    {
     "data": {
      "text/plain": [
       "'.'"
      ]
     },
     "execution_count": 2,
     "metadata": {},
     "output_type": "execute_result"
    }
   ],
   "source": [
    "os.curdir"
   ]
  },
  {
   "cell_type": "code",
   "execution_count": 3,
   "metadata": {},
   "outputs": [
    {
     "data": {
      "text/plain": [
       "['.anaconda',\n",
       " '.android',\n",
       " '.conda',\n",
       " '.condarc',\n",
       " '.eclipse',\n",
       " '.gitconfig',\n",
       " '.ipynb_checkpoints',\n",
       " '.ipython',\n",
       " '.jupyter',\n",
       " '.matplotlib',\n",
       " '.oracle_jre_usage',\n",
       " '.p2',\n",
       " '.pip',\n",
       " '.spyder-py3',\n",
       " '05.01.ipynb',\n",
       " '05.02.ipynb',\n",
       " '20180320.ipynb',\n",
       " '20180403课上.ipynb',\n",
       " '20180410课上.ipynb',\n",
       " '3D Objects',\n",
       " 'AnacondaProjects',\n",
       " 'AppData',\n",
       " 'Application Data',\n",
       " 'Contacts',\n",
       " 'Cookies',\n",
       " 'Desktop',\n",
       " 'Documents',\n",
       " 'Downloads',\n",
       " 'Favorites',\n",
       " 'foo.dat',\n",
       " 'homework.ipynb',\n",
       " 'IntelGraphicsProfiles',\n",
       " 'Links',\n",
       " 'Local Settings',\n",
       " 'MicrosoftEdgeBackups',\n",
       " 'Music',\n",
       " 'My Documents',\n",
       " 'NetHood',\n",
       " 'nltk_data',\n",
       " 'NTUSER.DAT',\n",
       " 'ntuser.dat.LOG1',\n",
       " 'ntuser.dat.LOG2',\n",
       " 'NTUSER.DAT{47a6a17a-a514-11e7-a94e-ec0d9a05c860}.TM.blf',\n",
       " 'NTUSER.DAT{47a6a17a-a514-11e7-a94e-ec0d9a05c860}.TMContainer00000000000000000001.regtrans-ms',\n",
       " 'NTUSER.DAT{47a6a17a-a514-11e7-a94e-ec0d9a05c860}.TMContainer00000000000000000002.regtrans-ms',\n",
       " 'ntuser.ini',\n",
       " 'numpy_03.01.ipynb',\n",
       " 'numpy_03.02.ipynb',\n",
       " 'numpy_03.03.ipynb',\n",
       " 'numpy_03.04.ipynb',\n",
       " 'numpy_03.05.ipynb',\n",
       " 'numpy_03.06.ipynb',\n",
       " 'numpy_03.07.ipynb',\n",
       " 'numpy_03.08.ipynb',\n",
       " 'numpy_03.09.ipynb',\n",
       " 'numpy_03.10.ipynb',\n",
       " 'numpy_03.11.ipynb',\n",
       " 'numpy_03.12.ipynb',\n",
       " 'numpy_03.13.ipynb',\n",
       " 'numpy_03.14.ipynb',\n",
       " 'numpy_03.15.ipynb',\n",
       " 'OneDrive',\n",
       " 'Pictures',\n",
       " 'PrintHood',\n",
       " 'Recent',\n",
       " 'Saved Games',\n",
       " 'Searches',\n",
       " 'SendTo',\n",
       " 'Templates',\n",
       " 'Untitled.ipynb',\n",
       " 'Untitled1.ipynb',\n",
       " 'Videos',\n",
       " '「开始」菜单',\n",
       " '课前预习_ Python编程基础课堂任务.ipynb',\n",
       " '课前预习_1010.ipynb',\n",
       " '课前预习_1111.ipynb',\n",
       " '课前预习_1313+1414.ipynb',\n",
       " '课前预习_1515.ipynb',\n",
       " '课前预习_1616+1717.ipynb',\n",
       " '课前预习_1818.ipynb',\n",
       " '课前预习_303.ipynb',\n",
       " '课前预习_404.ipynb',\n",
       " '课前预习_505.ipynb',\n",
       " '课前预习_606.ipynb',\n",
       " '课前预习_808.ipynb',\n",
       " '课前预习_909.ipynb',\n",
       " '面对对象_08.02.ipynb']"
      ]
     },
     "execution_count": 3,
     "metadata": {},
     "output_type": "execute_result"
    }
   ],
   "source": [
    "os.listdir(os.curdir)"
   ]
  },
  {
   "cell_type": "code",
   "execution_count": 5,
   "metadata": {},
   "outputs": [
    {
     "name": "stdout",
     "output_type": "stream",
     "text": [
      "True\n"
     ]
    }
   ],
   "source": [
    "f = open(\"test.file\", \"w\")\n",
    "f.close()\n",
    "\n",
    "print (\"test.file\" in os.listdir(os.curdir))"
   ]
  },
  {
   "cell_type": "code",
   "execution_count": 6,
   "metadata": {},
   "outputs": [
    {
     "name": "stdout",
     "output_type": "stream",
     "text": [
      "False\n",
      "True\n"
     ]
    }
   ],
   "source": [
    "os.rename(\"test.file\", \"test.new.file\")\n",
    "\n",
    "print( \"test.file\" in os.listdir(os.curdir))\n",
    "print (\"test.new.file\" in os.listdir(os.curdir))"
   ]
  },
  {
   "cell_type": "code",
   "execution_count": 7,
   "metadata": {},
   "outputs": [],
   "source": [
    "os.remove(\"test.new.file\")"
   ]
  },
  {
   "cell_type": "code",
   "execution_count": 8,
   "metadata": {},
   "outputs": [
    {
     "data": {
      "text/plain": [
       "'\\r\\n'"
      ]
     },
     "execution_count": 8,
     "metadata": {},
     "output_type": "execute_result"
    }
   ],
   "source": [
    "os.linesep"
   ]
  },
  {
   "cell_type": "code",
   "execution_count": 9,
   "metadata": {},
   "outputs": [
    {
     "data": {
      "text/plain": [
       "'\\\\'"
      ]
     },
     "execution_count": 9,
     "metadata": {},
     "output_type": "execute_result"
    }
   ],
   "source": [
    "os.sep"
   ]
  },
  {
   "cell_type": "code",
   "execution_count": 10,
   "metadata": {},
   "outputs": [
    {
     "data": {
      "text/plain": [
       "';'"
      ]
     },
     "execution_count": 10,
     "metadata": {},
     "output_type": "execute_result"
    }
   ],
   "source": [
    "os.pathsep"
   ]
  },
  {
   "cell_type": "code",
   "execution_count": null,
   "metadata": {},
   "outputs": [],
   "source": []
  }
 ],
 "metadata": {
  "kernelspec": {
   "display_name": "Python 3",
   "language": "python",
   "name": "python3"
  },
  "language_info": {
   "codemirror_mode": {
    "name": "ipython",
    "version": 3
   },
   "file_extension": ".py",
   "mimetype": "text/x-python",
   "name": "python",
   "nbconvert_exporter": "python",
   "pygments_lexer": "ipython3",
   "version": "3.6.4"
  }
 },
 "nbformat": 4,
 "nbformat_minor": 2
}
